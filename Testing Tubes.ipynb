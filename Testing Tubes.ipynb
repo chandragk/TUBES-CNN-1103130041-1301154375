{
 "cells": [
  {
   "cell_type": "markdown",
   "metadata": {},
   "source": [
    "TUBES CNN\n",
    "\n",
    "Chandra Gilang Kencana 1103130041\n",
    "Muhammad Shibgah Aulia 1301154375"
   ]
  },
  {
   "cell_type": "code",
   "execution_count": null,
   "metadata": {
    "collapsed": true
   },
   "outputs": [],
   "source": [
    "from keras.models import load_model\n",
    "import keras\n",
    "import numpy as np\n",
    "from keras.preprocessing.image import ImageDataGenerator\n",
    "from keras.models import Sequential\n",
    "from keras.layers import Conv2D, MaxPooling2D\n",
    "from keras.layers import Activation, Dropout, Flatten, Dense, BatchNormalization,GlobalAveragePooling2D\n",
    "from keras import backend as K\n",
    "import keras\n",
    "from PIL import Image\n",
    "import glob\n",
    "import _compat_pickle as pickle\n",
    "import pandas"
   ]
  },
  {
   "cell_type": "code",
   "execution_count": null,
   "metadata": {
    "collapsed": true
   },
   "outputs": [],
   "source": [
    "def create_model():\n",
    "    img_width, img_height = 48, 48\n",
    "    if K.image_data_format() == 'channels_first':\n",
    "        input_shape = (5, img_width, img_height)\n",
    "    else:\n",
    "        input_shape = (img_width, img_height, 5)\n",
    "    model = Sequential()\n",
    "    model.add(Conv2D(64, (5, 5), input_shape=input_shape, padding='same'))\n",
    "    model.add(Activation('relu'))\n",
    "    model.add(Conv2D(64, (5, 5), input_shape=input_shape, padding='same'))\n",
    "    model.add(Activation('relu'))\n",
    "    model.add(MaxPooling2D(pool_size=(5, 5), strides=2))\n",
    "    model.add(\n",
    "        BatchNormalization(axis=-1, momentum=0.99, epsilon=0.001, center=True, scale=True, beta_initializer='zeros',\n",
    "                           gamma_initializer='ones', moving_mean_initializer='zeros',\n",
    "                           moving_variance_initializer='ones', beta_regularizer=None, gamma_regularizer=None,\n",
    "                           beta_constraint=None, gamma_constraint=None)) "
   ]
  },
  {
   "cell_type": "code",
   "execution_count": null,
   "metadata": {
    "collapsed": true
   },
   "outputs": [],
   "source": [
    "model.add(Conv2D(128, (5, 5), input_shape=input_shape, padding='same'))\n",
    "    model.add(Activation('relu'))\n",
    "    model.add(Conv2D(128, (5, 5), input_shape=input_shape, padding='same'))\n",
    "    model.add(Activation('relu'))\n",
    "    model.add(MaxPooling2D(pool_size=(5, 5), strides=2))\n",
    "    model.add(\n",
    "        BatchNormalization(axis=-1, momentum=0.99, epsilon=0.001, center=True, scale=True, beta_initializer='zeros',\n",
    "                           gamma_initializer='ones', moving_mean_initializer='zeros',\n",
    "                           moving_variance_initializer='ones', beta_regularizer=None, gamma_regularizer=None,\n",
    "                           beta_constraint=None, gamma_constraint=None))"
   ]
  },
  {
   "cell_type": "code",
   "execution_count": null,
   "metadata": {
    "collapsed": true
   },
   "outputs": [],
   "source": [
    "model.add(Conv2D(256, (5, 5), input_shape=input_shape, padding='same'))\n",
    "    model.add(Activation('relu'))\n",
    "    model.add(Conv2D(256, (5, 5), input_shape=input_shape, padding='same'))\n",
    "    model.add(Activation('relu'))\n",
    "    model.add(Conv2D(256, (5, 5), input_shape=input_shape, padding='same'))\n",
    "    model.add(Activation('relu'))\n",
    "    model.add(MaxPooling2D(pool_size=(5, 5), strides=2))\n",
    "    model.add(\n",
    "        BatchNormalization(axis=-1, momentum=0.99, epsilon=0.001, center=True, scale=True, beta_initializer='zeros',\n",
    "                           gamma_initializer='ones', moving_mean_initializer='zeros',\n",
    "                           moving_variance_initializer='ones', beta_regularizer=None, gamma_regularizer=None,\n",
    "                           beta_constraint=None, gamma_constraint=None))"
   ]
  },
  {
   "cell_type": "code",
   "execution_count": null,
   "metadata": {
    "collapsed": true
   },
   "outputs": [],
   "source": [
    "model.add(Conv2D(512, (5, 5), input_shape=input_shape, padding='same'))\n",
    "    model.add(Activation('relu'))\n",
    "    model.add(Conv2D(512, (5, 5), input_shape=input_shape, padding='same'))\n",
    "    model.add(Activation('relu'))\n",
    "    model.add(Conv2D(512, (5, 5), input_shape=input_shape, padding='same'))\n",
    "    model.add(Activation('relu'))\n",
    "    model.add(MaxPooling2D(pool_size=(5, 5), strides=2))\n",
    "    model.add(\n",
    "        BatchNormalization(axis=-1, momentum=0.99, epsilon=0.001, center=True, scale=True, beta_initializer='zeros',\n",
    "                           gamma_initializer='ones', moving_mean_initializer='zeros',\n",
    "                           moving_variance_initializer='ones', beta_regularizer=None, gamma_regularizer=None,\n",
    "                           beta_constraint=None, gamma_constraint=None))"
   ]
  },
  {
   "cell_type": "code",
   "execution_count": null,
   "metadata": {
    "collapsed": true
   },
   "outputs": [],
   "source": [
    "model.add(GlobalAveragePooling2D())\n",
    "    model.add(Dense(7))\n",
    "    model.add(Activation('softmax'))\n",
    "    return model"
   ]
  },
  {
   "cell_type": "code",
   "execution_count": null,
   "metadata": {
    "collapsed": true
   },
   "outputs": [],
   "source": [
    "def loadLabel(filename):\n",
    "    with open(filename,'r') as f:\n",
    "        for line in f:\n",
    "            line = line.split(', ')\n",
    "            target = [int(i) for i in line]\n",
    "    return target"
   ]
  },
  {
   "cell_type": "code",
   "execution_count": null,
   "metadata": {
    "collapsed": true
   },
   "outputs": [],
   "source": [
    "def load_trained_model(weights_path):\n",
    "   model = create_model()\n",
    "   model.load_weights(weights_path)\n",
    "   return model\n",
    "\n",
    "model = load_trained_model('5DesCNNvgg16v4.h5')\n",
    "kelas = ['Angry','Disgust','Fear','Happy','Sad','Surprised','Neutral']\n",
    "opt = keras.optimizers.nadam(lr = 0.01)\n",
    "model.compile(loss='categorical_crossentropy',\n",
    "              optimizer=opt,\n",
    "              metrics=['accuracy'])"
   ]
  },
  {
   "cell_type": "code",
   "execution_count": null,
   "metadata": {
    "collapsed": true
   },
   "outputs": [],
   "source": [
    "predicted = []\n",
    "hasil = []\n",
    "predictedLabel = 2\n",
    "target = loadLabel('target.txt')\n",
    "predictedTrue = np.zeros(6)\n",
    "path = './data/test'\n",
    "for img_path in glob.glob(path+'\\*.jpg'):\n",
    "    img = Image.open(img_path)\n",
    "    temp = np.zeros((2,48,48,5))\n",
    "    img = np.array(img)\n",
    "    temp[0,:,:,0] = img\n",
    "    temp[0,:,:,1] = img\n",
    "    temp[0,:,:,2] = img\n",
    "    classes =model.predict(temp)\n",
    "    label = np.argmax(classes)\n",
    "    predicted.append(label)\n",
    "    hasil.append([label,kelas[label]])\n",
    "\n",
    "temp = np.array(hasil)\n",
    "\n",
    "accuracy = np.sum(np.array(predicted) == np.array(target))/len(target)\n",
    "\n",
    "print(\"accuracy : \",accuracy)\n",
    "\n",
    "df = pandas.DataFrame(hasil,columns=[\"Label\",\"Emotion\"])\n",
    "df.to_excel('HasilLabel.xlsx')"
   ]
  }
 ],
 "metadata": {
  "kernelspec": {
   "display_name": "Python 3",
   "language": "python",
   "name": "python3"
  },
  "language_info": {
   "codemirror_mode": {
    "name": "ipython",
    "version": 3
   },
   "file_extension": ".py",
   "mimetype": "text/x-python",
   "name": "python",
   "nbconvert_exporter": "python",
   "pygments_lexer": "ipython3",
   "version": "3.6.0"
  }
 },
 "nbformat": 4,
 "nbformat_minor": 2
}
