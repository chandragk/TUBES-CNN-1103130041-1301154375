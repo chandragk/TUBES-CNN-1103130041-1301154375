{
 "cells": [
  {
   "cell_type": "markdown",
   "metadata": {},
   "source": [
    "TUBES CNN\n",
    "\n",
    "Chandra Gilang Kencana 1103130041\n",
    "Muhammad Shibgah Aulia 1301154375"
   ]
  },
  {
   "cell_type": "code",
   "execution_count": null,
   "metadata": {
    "collapsed": true
   },
   "outputs": [],
   "source": [
    "from keras.models import load_model\n",
    "from glob import glob\n",
    "import numpy as np\n",
    "from keras.backend import set_image_dim_ordering\n",
    "from keras.preprocessing.image import load_img, img_to_array"
   ]
  },
  {
   "cell_type": "code",
   "execution_count": null,
   "metadata": {
    "collapsed": true
   },
   "outputs": [],
   "source": [
    "prediction = []\n",
    "path = 'data/test/*.jpg'\n",
    "model = load_model('model_final_fix.h5')"
   ]
  },
  {
   "cell_type": "code",
   "execution_count": null,
   "metadata": {
    "collapsed": true
   },
   "outputs": [],
   "source": [
    "for img_path in glob(path):\n",
    "    x = []\n",
    "    set_image_dim_ordering('th')\n",
    "    img = load_img(img_path, grayscale=True)\n",
    "    x.append(img_to_array(img))\n",
    "    x = np.array(x)\n",
    "    x /= 255\n",
    "    predict = model.predict(x)\n",
    "    prediction.append(np.argmax(predict[0]))"
   ]
  },
  {
   "cell_type": "code",
   "execution_count": null,
   "metadata": {
    "collapsed": true
   },
   "outputs": [],
   "source": [
    "print('Prediction')\n",
    "for jawaban in prediction:\n",
    "    print(jawaban)"
   ]
  }
 ],
 "metadata": {
  "kernelspec": {
   "display_name": "Python 3",
   "language": "python",
   "name": "python3"
  },
  "language_info": {
   "codemirror_mode": {
    "name": "ipython",
    "version": 3
   },
   "file_extension": ".py",
   "mimetype": "text/x-python",
   "name": "python",
   "nbconvert_exporter": "python",
   "pygments_lexer": "ipython3",
   "version": "3.6.0"
  }
 },
 "nbformat": 4,
 "nbformat_minor": 2
}
